{
 "cells": [
  {
   "cell_type": "code",
   "execution_count": 2,
   "metadata": {},
   "outputs": [],
   "source": [
    "import pandas as pd\n",
    "import numpy as np\n",
    "import matplotlib.pyplot as plt\n",
    "\n",
    "\n",
    "\n"
   ]
  },
  {
   "cell_type": "code",
   "execution_count": 3,
   "metadata": {},
   "outputs": [],
   "source": [
    "dados = pd.read_csv(\"dados/basegeral_seplag.csv\",sep=';', low_memory = False)"
   ]
  },
  {
   "cell_type": "markdown",
   "metadata": {},
   "source": [
    " # Removendo colunas nao utilizadas"
   ]
  },
  {
   "cell_type": "code",
   "execution_count": 4,
   "metadata": {},
   "outputs": [],
   "source": [
    "dadosFiltrados = dados.drop(columns=['dt_primeiros_sintomas','sintomas','comorbidades','cd_municipio'])"
   ]
  },
  {
   "cell_type": "markdown",
   "metadata": {},
   "source": [
    "# Filtrando quantidades de testes no primeiro Trimestre de 2021"
   ]
  },
  {
   "cell_type": "code",
   "execution_count": 81,
   "metadata": {},
   "outputs": [
    {
     "data": {
      "text/html": [
       "<div>\n",
       "<style scoped>\n",
       "    .dataframe tbody tr th:only-of-type {\n",
       "        vertical-align: middle;\n",
       "    }\n",
       "\n",
       "    .dataframe tbody tr th {\n",
       "        vertical-align: top;\n",
       "    }\n",
       "\n",
       "    .dataframe thead th {\n",
       "        text-align: right;\n",
       "    }\n",
       "</style>\n",
       "<table border=\"1\" class=\"dataframe\">\n",
       "  <thead>\n",
       "    <tr style=\"text-align: right;\">\n",
       "      <th></th>\n",
       "      <th>dt_notificacao</th>\n",
       "      <th>Sexo</th>\n",
       "      <th>raca</th>\n",
       "      <th>municipio</th>\n",
       "      <th>hospitalizacao</th>\n",
       "      <th>classe</th>\n",
       "      <th>Resultado</th>\n",
       "      <th>evolucao</th>\n",
       "      <th>dt_obito</th>\n",
       "      <th>faixa_etaria</th>\n",
       "      <th>tipo</th>\n",
       "    </tr>\n",
       "  </thead>\n",
       "  <tbody>\n",
       "    <tr>\n",
       "      <th>56230</th>\n",
       "      <td>2021-02-11</td>\n",
       "      <td>FEMININO</td>\n",
       "      <td>BRANCA</td>\n",
       "      <td>RECIFE</td>\n",
       "      <td>NaN</td>\n",
       "      <td>NEGATIVO</td>\n",
       "      <td>NEGATIVO</td>\n",
       "      <td>RECUPERADO</td>\n",
       "      <td>NaN</td>\n",
       "      <td>40-49 anos</td>\n",
       "      <td>leve</td>\n",
       "    </tr>\n",
       "    <tr>\n",
       "      <th>56232</th>\n",
       "      <td>2021-02-03</td>\n",
       "      <td>FEMININO</td>\n",
       "      <td>BRANCA</td>\n",
       "      <td>RECIFE</td>\n",
       "      <td>NaN</td>\n",
       "      <td>NEGATIVO</td>\n",
       "      <td>NaN</td>\n",
       "      <td>RECUPERADO</td>\n",
       "      <td>NaN</td>\n",
       "      <td>20-29 anos</td>\n",
       "      <td>leve</td>\n",
       "    </tr>\n",
       "    <tr>\n",
       "      <th>56233</th>\n",
       "      <td>2021-03-23</td>\n",
       "      <td>MASCULINO</td>\n",
       "      <td>BRANCA</td>\n",
       "      <td>RECIFE</td>\n",
       "      <td>NaN</td>\n",
       "      <td>CONFIRMADO</td>\n",
       "      <td>POSITIVO</td>\n",
       "      <td>RECUPERADO</td>\n",
       "      <td>NaN</td>\n",
       "      <td>0-9 anos</td>\n",
       "      <td>leve</td>\n",
       "    </tr>\n",
       "    <tr>\n",
       "      <th>56237</th>\n",
       "      <td>2021-01-18</td>\n",
       "      <td>FEMININO</td>\n",
       "      <td>BRANCA</td>\n",
       "      <td>RECIFE</td>\n",
       "      <td>NaN</td>\n",
       "      <td>NEGATIVO</td>\n",
       "      <td>NEGATIVO</td>\n",
       "      <td>NaN</td>\n",
       "      <td>NaN</td>\n",
       "      <td>20-29 anos</td>\n",
       "      <td>leve</td>\n",
       "    </tr>\n",
       "    <tr>\n",
       "      <th>56238</th>\n",
       "      <td>2021-01-06</td>\n",
       "      <td>MASCULINO</td>\n",
       "      <td>BRANCA</td>\n",
       "      <td>RECIFE</td>\n",
       "      <td>NaN</td>\n",
       "      <td>NEGATIVO</td>\n",
       "      <td>NEGATIVO</td>\n",
       "      <td>NaN</td>\n",
       "      <td>NaN</td>\n",
       "      <td>60-69 anos</td>\n",
       "      <td>leve</td>\n",
       "    </tr>\n",
       "    <tr>\n",
       "      <th>...</th>\n",
       "      <td>...</td>\n",
       "      <td>...</td>\n",
       "      <td>...</td>\n",
       "      <td>...</td>\n",
       "      <td>...</td>\n",
       "      <td>...</td>\n",
       "      <td>...</td>\n",
       "      <td>...</td>\n",
       "      <td>...</td>\n",
       "      <td>...</td>\n",
       "      <td>...</td>\n",
       "    </tr>\n",
       "    <tr>\n",
       "      <th>340218</th>\n",
       "      <td>2021-02-19</td>\n",
       "      <td>FEMININO</td>\n",
       "      <td>PRETA</td>\n",
       "      <td>RECIFE</td>\n",
       "      <td>NaN</td>\n",
       "      <td>NEGATIVO</td>\n",
       "      <td>NEGATIVO</td>\n",
       "      <td>RECUPERADO</td>\n",
       "      <td>NaN</td>\n",
       "      <td>70-79 anos</td>\n",
       "      <td>leve</td>\n",
       "    </tr>\n",
       "    <tr>\n",
       "      <th>340219</th>\n",
       "      <td>2021-01-26</td>\n",
       "      <td>MASCULINO</td>\n",
       "      <td>IGNORADO</td>\n",
       "      <td>RECIFE</td>\n",
       "      <td>NaN</td>\n",
       "      <td>CONFIRMADO</td>\n",
       "      <td>POSITIVO</td>\n",
       "      <td>RECUPERADO</td>\n",
       "      <td>NaN</td>\n",
       "      <td>60-69 anos</td>\n",
       "      <td>leve</td>\n",
       "    </tr>\n",
       "    <tr>\n",
       "      <th>340224</th>\n",
       "      <td>2021-01-27</td>\n",
       "      <td>MASCULINO</td>\n",
       "      <td>BRANCA</td>\n",
       "      <td>RECIFE</td>\n",
       "      <td>NaN</td>\n",
       "      <td>CONFIRMADO</td>\n",
       "      <td>NaN</td>\n",
       "      <td>RECUPERADO</td>\n",
       "      <td>NaN</td>\n",
       "      <td>50-59 anos</td>\n",
       "      <td>leve</td>\n",
       "    </tr>\n",
       "    <tr>\n",
       "      <th>340233</th>\n",
       "      <td>2021-01-14</td>\n",
       "      <td>FEMININO</td>\n",
       "      <td>IGNORADO</td>\n",
       "      <td>RECIFE</td>\n",
       "      <td>NaN</td>\n",
       "      <td>CONFIRMADO</td>\n",
       "      <td>POSITIVO</td>\n",
       "      <td>RECUPERADO</td>\n",
       "      <td>NaN</td>\n",
       "      <td>70-79 anos</td>\n",
       "      <td>leve</td>\n",
       "    </tr>\n",
       "    <tr>\n",
       "      <th>340236</th>\n",
       "      <td>2021-03-22</td>\n",
       "      <td>FEMININO</td>\n",
       "      <td>PRETA</td>\n",
       "      <td>RECIFE</td>\n",
       "      <td>NaN</td>\n",
       "      <td>CONFIRMADO</td>\n",
       "      <td>NaN</td>\n",
       "      <td>RECUPERADO</td>\n",
       "      <td>NaN</td>\n",
       "      <td>70-79 anos</td>\n",
       "      <td>leve</td>\n",
       "    </tr>\n",
       "  </tbody>\n",
       "</table>\n",
       "<p>74304 rows × 11 columns</p>\n",
       "</div>"
      ],
      "text/plain": [
       "       dt_notificacao       Sexo      raca municipio hospitalizacao  \\\n",
       "56230      2021-02-11   FEMININO    BRANCA    RECIFE            NaN   \n",
       "56232      2021-02-03   FEMININO    BRANCA    RECIFE            NaN   \n",
       "56233      2021-03-23  MASCULINO    BRANCA    RECIFE            NaN   \n",
       "56237      2021-01-18   FEMININO    BRANCA    RECIFE            NaN   \n",
       "56238      2021-01-06  MASCULINO    BRANCA    RECIFE            NaN   \n",
       "...               ...        ...       ...       ...            ...   \n",
       "340218     2021-02-19   FEMININO     PRETA    RECIFE            NaN   \n",
       "340219     2021-01-26  MASCULINO  IGNORADO    RECIFE            NaN   \n",
       "340224     2021-01-27  MASCULINO    BRANCA    RECIFE            NaN   \n",
       "340233     2021-01-14   FEMININO  IGNORADO    RECIFE            NaN   \n",
       "340236     2021-03-22   FEMININO     PRETA    RECIFE            NaN   \n",
       "\n",
       "            classe Resultado    evolucao dt_obito faixa_etaria  tipo  \n",
       "56230     NEGATIVO  NEGATIVO  RECUPERADO      NaN   40-49 anos  leve  \n",
       "56232     NEGATIVO       NaN  RECUPERADO      NaN   20-29 anos  leve  \n",
       "56233   CONFIRMADO  POSITIVO  RECUPERADO      NaN     0-9 anos  leve  \n",
       "56237     NEGATIVO  NEGATIVO         NaN      NaN   20-29 anos  leve  \n",
       "56238     NEGATIVO  NEGATIVO         NaN      NaN   60-69 anos  leve  \n",
       "...            ...       ...         ...      ...          ...   ...  \n",
       "340218    NEGATIVO  NEGATIVO  RECUPERADO      NaN   70-79 anos  leve  \n",
       "340219  CONFIRMADO  POSITIVO  RECUPERADO      NaN   60-69 anos  leve  \n",
       "340224  CONFIRMADO       NaN  RECUPERADO      NaN   50-59 anos  leve  \n",
       "340233  CONFIRMADO  POSITIVO  RECUPERADO      NaN   70-79 anos  leve  \n",
       "340236  CONFIRMADO       NaN  RECUPERADO      NaN   70-79 anos  leve  \n",
       "\n",
       "[74304 rows x 11 columns]"
      ]
     },
     "execution_count": 81,
     "metadata": {},
     "output_type": "execute_result"
    }
   ],
   "source": [
    "linhasTestes = (dadosFiltrados['dt_notificacao'] >= '2021-01-01') & (dadosFiltrados['dt_notificacao'] <= '2021-03-31')\n",
    "\n",
    "testesTrimestre = dadosFiltrados[linhasTestes]\n",
    "\n",
    "linhas = testesTrimestre['municipio'] == 'RECIFE'\n",
    "\n",
    "teste = testesTrimestre[linhas]\n",
    "\n",
    "teste"
   ]
  },
  {
   "cell_type": "markdown",
   "metadata": {},
   "source": [
    "# Filtrando casos Confirmados no primeiro Trimestre de 2021"
   ]
  },
  {
   "cell_type": "code",
   "execution_count": 88,
   "metadata": {},
   "outputs": [],
   "source": [
    "#Casos Confirmados\n",
    "linhasConfirmados =  (testesTrimestre['classe'] == 'CONFIRMADO')\n",
    "\n",
    "casosTrimestre = testesTrimestre[linhasConfirmados]\n",
    "\n"
   ]
  },
  {
   "cell_type": "markdown",
   "metadata": {},
   "source": [
    "# Casos em Recife"
   ]
  },
  {
   "cell_type": "code",
   "execution_count": 125,
   "metadata": {},
   "outputs": [
    {
     "name": "stdout",
     "output_type": "stream",
     "text": [
      "testes realizados com resultado negativo : 60.65 %\n",
      "testes realizados com resultado positivo : 39.35 %\n"
     ]
    }
   ],
   "source": [
    "#Casos não-confirmados\n",
    "\n",
    "linhasTestes = (testesTrimestre['classe'] != 'CONFIRMADO') & (testesTrimestre['municipio'] == 'RECIFE')\n",
    "\n",
    "testesNegativos = testesTrimestre[linhasTestes]\n",
    "\n",
    "casosRecife = (casosTrimestre['municipio'] == 'RECIFE')\n",
    "\n",
    "\n",
    "\n",
    "resultadoNegativo = ((testesNegativos.shape[0] * 100)/(testesNegativos.shape[0]+casosRecife.shape[0]))\n",
    "print('testes realizados com resultado negativo : {:.2f} '.format(resultadoNegativo) + '%')\n",
    "\n",
    "resultadoPositivo = ((casosRecife.shape[0] * 100)/(testesNegativos.shape[0]+casosRecife.shape[0]))\n",
    "print('testes realizados com resultado positivo : {:.2f} '.format(resultadoPositivo) + '%')\n",
    "\n",
    "\n",
    "\n",
    "\n",
    "\n",
    "#= casosTrimestre[casosRecife]\n",
    "#testesNegativos.shape[0]\n",
    "#casosRecife.groupby('faixa_etaria').size()"
   ]
  },
  {
   "cell_type": "markdown",
   "metadata": {},
   "source": [
    " # Filtrando casos por Municipio"
   ]
  },
  {
   "cell_type": "code",
   "execution_count": 68,
   "metadata": {},
   "outputs": [
    {
     "data": {
      "text/plain": [
       "<matplotlib.axes._subplots.AxesSubplot at 0x257826ea340>"
      ]
     },
     "execution_count": 68,
     "metadata": {},
     "output_type": "execute_result"
    },
    {
     "data": {
      "image/png": "[encoded data removed]",
      "text/plain": [
       "<Figure size 1440x360 with 1 Axes>"
      ]
     },
     "metadata": {
      "needs_background": "light"
     },
     "output_type": "display_data"
    }
   ],
   "source": [
    "casos_municipio = dados_filtrados.groupby('municipio').size()\n",
    "\n",
    "casos_municipio.sort_values()[-10:].plot(kind='bar',figsize=(20,5))\n"
   ]
  },
  {
   "cell_type": "markdown",
   "metadata": {},
   "source": [
    "# Filtrando casos de obito por municipio"
   ]
  },
  {
   "cell_type": "code",
   "execution_count": 82,
   "metadata": {
    "scrolled": true
   },
   "outputs": [
    {
     "data": {
      "text/plain": [
       "<matplotlib.axes._subplots.AxesSubplot at 0x2579fe997c0>"
      ]
     },
     "execution_count": 82,
     "metadata": {},
     "output_type": "execute_result"
    },
    {
     "data": {
      "image/png": "[encoded data removed]",
      "text/plain": [
       "<Figure size 1440x360 with 1 Axes>"
      ]
     },
     "metadata": {
      "needs_background": "light"
     },
     "output_type": "display_data"
    }
   ],
   "source": [
    "casos_obito = dados_filtrados[dados_filtrados['dt_obito'].notna()]\n",
    "\n",
    "casos_obito_municipio = casos_obito.groupby('municipio').size()\n",
    "\n",
    "casos_obito_municipio\n",
    "\n",
    "casos_obito_municipio.sort_values()[-10:].plot(kind='bar',figsize=(20,5))"
   ]
  },
  {
   "cell_type": "markdown",
   "metadata": {},
   "source": [
    "# Filtrando casos por faixa etaria"
   ]
  },
  {
   "cell_type": "code",
   "execution_count": 131,
   "metadata": {},
   "outputs": [
    {
     "data": {
      "text/plain": [
       "<matplotlib.axes._subplots.AxesSubplot at 0x257a17b2940>"
      ]
     },
     "execution_count": 131,
     "metadata": {},
     "output_type": "execute_result"
    },
    {
     "data": {
      "image/png": "[encoded data removed]",
      "text/plain": [
       "<Figure size 1440x360 with 1 Axes>"
      ]
     },
     "metadata": {
      "needs_background": "light"
     },
     "output_type": "display_data"
    }
   ],
   "source": [
    "porcentagem_casos = dados_filtrados.groupby('faixa_etaria').size()\n",
    "\n",
    "plt.title('Casos x Faixa etaria')\n",
    "\n",
    "porcentagem_casos.sort_values()[-10:].plot(kind='bar',figsize=(20,5))\n"
   ]
  },
  {
   "cell_type": "markdown",
   "metadata": {},
   "source": [
    "# casos de obito por faixa etaria"
   ]
  },
  {
   "cell_type": "code",
   "execution_count": 83,
   "metadata": {},
   "outputs": [
    {
     "data": {
      "text/plain": [
       "faixa_etaria\n",
       "0-9 anos        3\n",
       "10-19 anos      4\n",
       "20-29 anos     19\n",
       "30-39 anos     68\n",
       "40-49 anos    154\n",
       "50-59 anos    281\n",
       "60-69 anos    442\n",
       "70-79 anos    557\n",
       "80+ anos      520\n",
       "dtype: int64"
      ]
     },
     "execution_count": 83,
     "metadata": {},
     "output_type": "execute_result"
    },
    {
     "data": {
      "image/png": "[encoded data removed]",
      "text/plain": [
       "<Figure size 1440x360 with 1 Axes>"
      ]
     },
     "metadata": {
      "needs_background": "light"
     },
     "output_type": "display_data"
    }
   ],
   "source": [
    "obitosFaixaEtaria = casos_obito.groupby('faixa_etaria').size()\n",
    "\n",
    "obitosFaixaEtaria.sort_values()[-10:].plot(kind='bar',figsize=(20,5))\n",
    "\n",
    "obitosFaixaEtaria"
   ]
  },
  {
   "cell_type": "markdown",
   "metadata": {},
   "source": [
    "# Taxa de letalidade por idade"
   ]
  },
  {
   "cell_type": "code",
   "execution_count": 129,
   "metadata": {},
   "outputs": [
    {
     "name": "stdout",
     "output_type": "stream",
     "text": [
      "A taxa de letalidade por faixa etaria é: faixa_etaria\n",
      "0-9 anos       0.097150\n",
      "10-19 anos     0.063888\n",
      "20-29 anos     0.102786\n",
      "30-39 anos     0.277257\n",
      "40-49 anos     0.736877\n",
      "50-59 anos     1.783674\n",
      "60-69 anos     4.517580\n",
      "70-79 anos    10.475832\n",
      "80+ anos      18.847408\n",
      "dtype: float64%\n"
     ]
    },
    {
     "data": {
      "text/plain": [
       "<matplotlib.axes._subplots.AxesSubplot at 0x257a15e46a0>"
      ]
     },
     "execution_count": 129,
     "metadata": {},
     "output_type": "execute_result"
    },
    {
     "data": {
      "image/png": "[encoded data removed]",
      "text/plain": [
       "<Figure size 1440x360 with 1 Axes>"
      ]
     },
     "metadata": {
      "needs_background": "light"
     },
     "output_type": "display_data"
    }
   ],
   "source": [
    "resultado = (obitosFaixaEtaria/porcentagem_casos) * 100 \n",
    "\n",
    "print(f'A taxa de letalidade por faixa etaria é: {resultado}%'.format())\n",
    "\n",
    "resultado.sort_values()[-10:].plot(kind='area',figsize=(20,5))\n"
   ]
  }
 ],
 "metadata": {
  "kernelspec": {
   "display_name": "Python 3",
   "language": "python",
   "name": "python3"
  },
  "language_info": {
   "codemirror_mode": {
    "name": "ipython",
    "version": 3
   },
   "file_extension": ".py",
   "mimetype": "text/x-python",
   "name": "python",
   "nbconvert_exporter": "python",
   "pygments_lexer": "ipython3",
   "version": "3.8.3"
  }
 },
 "nbformat": 4,
 "nbformat_minor": 4
}
